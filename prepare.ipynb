{
 "cells": [
  {
   "cell_type": "code",
   "execution_count": null,
   "metadata": {
    "vscode": {
     "languageId": "shellscript"
    }
   },
   "outputs": [],
   "source": [
    "!pip install pillow==9.4.0\n",
    "!pip install numpy==1.24.3\n",
    "!pip install tensorflow==2.13.0\n",
    "!pip install matplotlib==3.8.4"
   ]
  },
  {
   "cell_type": "code",
   "execution_count": null,
   "metadata": {},
   "outputs": [],
   "source": [
    "from PIL import Image\n",
    "import matplotlib.pyplot as plt\n",
    "\n",
    "with open('./train.txt') as f:\n",
    "    line = f.readline()\n",
    "    global file\n",
    "    file = line.split(':')[0]\n",
    "\n",
    "img = Image.open(file)\n",
    "plt.imshow(img)\n",
    "plt.axis('on')"
   ]
  },
  {
   "cell_type": "code",
   "execution_count": null,
   "metadata": {},
   "outputs": [],
   "source": [
    "img = Image.open(file).convert('L')\n",
    "img = img.crop((0, 10, 100, 36))\n",
    "img1 = img.crop((0, 0, 19, 26))\n",
    "\n",
    "plt.imshow(img1, cmap='Greys_r')\n",
    "plt.axis('off')"
   ]
  },
  {
   "cell_type": "code",
   "execution_count": null,
   "metadata": {},
   "outputs": [],
   "source": [
    "img = Image.open(file).convert('L')\n",
    "img = img.crop((0, 10, 100, 36))\n",
    "img1 = img.crop((0, 0, 19, 26))\n",
    "img2 = img.crop((30, 0, 49, 26))\n",
    "img3 = img.crop((60, 0, 79, 26))\n",
    "img4 = img.crop((80, 0, 99, 26))\n",
    "\n",
    "fig = plt.figure()\n",
    "imgs = [img1, img2, img3, img4]\n",
    "for i, val in enumerate(imgs):\n",
    "    fig.add_subplot(1, 4, i + 1)\n",
    "    plt.imshow(imgs[i], cmap='Greys_r')\n",
    "    plt.axis('on')"
   ]
  },
  {
   "cell_type": "code",
   "execution_count": null,
   "metadata": {},
   "outputs": [],
   "source": [
    "import numpy as np\n",
    "\n",
    "img = Image.open(file).convert('L')\n",
    "img = img.crop((0, 10, 100, 36))\n",
    "img1 = img.crop((0, 0, 19, 26))\n",
    "\n",
    "img1 = np.array(img1).flatten()\n",
    "print(img1)\n",
    "img1 = list(map(lambda x: 1 if x <= 180 else 0, img1))\n",
    "print(img1)"
   ]
  },
  {
   "cell_type": "code",
   "execution_count": null,
   "metadata": {},
   "outputs": [],
   "source": [
    "__author__ = 'Tianjie Yang'\n",
    "__email__ = 'tianjyan@qq.com'\n",
    "\n",
    "from PIL import Image\n",
    "import numpy as np\n",
    "\n",
    "# 保存输入数据\n",
    "def px(prefix, img1, img2, img3, img4):\n",
    "    with open('./data/' + prefix + '_images.py', 'a+') as f:\n",
    "        print(img1, file=f, end=\",\\n\")\n",
    "        print(img2, file=f, end=\",\\n\")\n",
    "        print(img3, file=f, end=\",\\n\")\n",
    "        print(img4, file=f, end=\",\\n\")\n",
    "\n",
    "# 保存标签数据\n",
    "def py(prefix, code):\n",
    "    with open('./data/' + prefix + '_labels.py', 'a+') as f:\n",
    "        for x in range(4):\n",
    "            tmp = [0, 0, 0, 0, 0, 0, 0, 0, 0, 0]\n",
    "            tmp[int(code[x])] = 1\n",
    "            print(tmp, file=f, end=\",\\n\")\n",
    "\n",
    "# 预处理图片\n",
    "def paa(file):\n",
    "    img = Image.open(file).convert('L') # 读取图片并灰度化\n",
    "\n",
    "    img = img.crop((0, 10, 100, 36)) # 120*44图片裁剪为100*26\n",
    "\n",
    "    # 分离数字\n",
    "    img1 = img.crop((0, 0, 19, 26)) # 单个数字图片大小为19*26\n",
    "    img2 = img.crop((30, 0, 49, 26))\n",
    "    img3 = img.crop((60, 0, 79, 26))\n",
    "    img4 = img.crop((80, 0, 99, 26))\n",
    "\n",
    "    img1 = np.array(img1).flatten() # 扁平化，把二维弄成一维度\n",
    "    img1 = list(map(lambda x: 1 if x <= 180 else 0, img1)) # 二值化\n",
    "    img2 = np.array(img2).flatten()\n",
    "    img2 = list(map(lambda x: 1 if x <= 180 else 0, img2))\n",
    "    img3 = np.array(img3).flatten()\n",
    "    img3 = list(map(lambda x: 1 if x <= 180 else 0, img3))\n",
    "    img4 = np.array(img4).flatten()\n",
    "    img4 = list(map(lambda x: 1 if x <= 180 else 0, img4))\n",
    "\n",
    "    return (img1, img2, img3, img4)\n",
    "\n",
    "def work(prefix):\n",
    "    results = {}\n",
    "    files = []\n",
    "    with open('./' + prefix + '.txt') as f:\n",
    "        for x in f.readlines():\n",
    "            tmp = x.split(':')\n",
    "            files.append(tmp[0])\n",
    "            results[tmp[0]] = tmp[1]\n",
    "\n",
    "    with open('./data/' + prefix + '_images.py', 'w') as f:\n",
    "        print(\"data = [\", file=f)\n",
    "    with open('./data/' + prefix + '_labels.py', 'w') as f:\n",
    "        print(\"data = [\", file=f)\n",
    "\n",
    "    for file in files:\n",
    "        print(file)\n",
    "        img1, img2, img3, img4 = paa(file)\n",
    "        px(prefix, img1, img2, img3, img4)\n",
    "        py(prefix, results[file])\n",
    "\n",
    "    with open('./data/' + prefix + '_images.py', 'a+') as f:\n",
    "        print(\"]\", file=f)\n",
    "    with open('./data/' + prefix + '_labels.py', 'a+') as f:\n",
    "        print(\"]\", file=f)\n",
    "\n",
    "\n",
    "work('train')\n"
   ]
  }
 ],
 "metadata": {
  "kernelspec": {
   "display_name": "venv",
   "language": "python",
   "name": "python3"
  },
  "language_info": {
   "codemirror_mode": {
    "name": "ipython",
    "version": 3
   },
   "file_extension": ".py",
   "mimetype": "text/x-python",
   "name": "python",
   "nbconvert_exporter": "python",
   "pygments_lexer": "ipython3",
   "version": "3.11.5"
  }
 },
 "nbformat": 4,
 "nbformat_minor": 2
}
